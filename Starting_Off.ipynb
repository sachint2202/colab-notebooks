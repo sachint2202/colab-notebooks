{
  "nbformat": 4,
  "nbformat_minor": 0,
  "metadata": {
    "colab": {
      "provenance": [],
      "authorship_tag": "ABX9TyMrzgumVwTJ12j/hRWrdkxu",
      "include_colab_link": true
    },
    "kernelspec": {
      "name": "python3",
      "display_name": "Python 3"
    },
    "language_info": {
      "name": "python"
    }
  },
  "cells": [
    {
      "cell_type": "markdown",
      "metadata": {
        "id": "view-in-github",
        "colab_type": "text"
      },
      "source": [
        "<a href=\"https://colab.research.google.com/github/sachint2202/colab-notebooks/blob/main/Starting_Off.ipynb\" target=\"_parent\"><img src=\"https://colab.research.google.com/assets/colab-badge.svg\" alt=\"Open In Colab\"/></a>"
      ]
    },
    {
      "cell_type": "markdown",
      "source": [
        "Sample Python program to draw inference"
      ],
      "metadata": {
        "id": "Z2Rpa0OLSRJp"
      }
    },
    {
      "cell_type": "code",
      "execution_count": 6,
      "metadata": {
        "colab": {
          "base_uri": "https://localhost:8080/"
        },
        "id": "_BQUh-DJQln3",
        "outputId": "2bb06f35-b93f-456d-c426-4c77ff1c2acd"
      },
      "outputs": [
        {
          "output_type": "stream",
          "name": "stdout",
          "text": [
            "10  +  20  =  30\n"
          ]
        }
      ],
      "source": [
        "a = 10\n",
        "b = 20\n",
        "c = a + b\n",
        "print(a,' + ',b,' = ',a+b)"
      ]
    },
    {
      "cell_type": "markdown",
      "source": [
        "Google CoLab comes pre-installed with some Data Science libraries so you don't need to install them. Examples include numpy and pandas."
      ],
      "metadata": {
        "id": "nyFbkANgZs1K"
      }
    },
    {
      "cell_type": "markdown",
      "source": [
        "### Sample pandas code ♥\n",
        "\n",
        "---\n",
        "\n"
      ],
      "metadata": {
        "id": "wY1BT5Lhb7NM"
      }
    },
    {
      "cell_type": "code",
      "source": [
        "import pandas as pd\n",
        "myList = ['Sachin', 23, 45.6789, 'font']\n",
        "pdSeries = pd.Series(myList); #Series is like column of a table. 1-D Array\n",
        "print('Panda series = \\n', pdSeries)"
      ],
      "metadata": {
        "colab": {
          "base_uri": "https://localhost:8080/"
        },
        "id": "xBIW7y6aYTU0",
        "outputId": "c8613020-d2fc-4635-85b2-a5b1b3882aae"
      },
      "execution_count": 7,
      "outputs": [
        {
          "output_type": "stream",
          "name": "stdout",
          "text": [
            "Panda series = \n",
            " 0     Sachin\n",
            "1         23\n",
            "2    45.6789\n",
            "3       font\n",
            "dtype: object\n"
          ]
        }
      ]
    },
    {
      "cell_type": "markdown",
      "source": [
        "### Sample numpy Code ♨\n",
        "\n",
        "---\n",
        "\n"
      ],
      "metadata": {
        "id": "KSwFAtY8btjW"
      }
    },
    {
      "cell_type": "code",
      "source": [
        "import numpy as np\n",
        "arr = np.array((123, 453, 65, 876, 'Numpy', 'Pandas', 2.94))\n",
        "print('Array = \\n',arr)\n",
        "print(type(arr))"
      ],
      "metadata": {
        "colab": {
          "base_uri": "https://localhost:8080/"
        },
        "id": "AE1623JEb1Aj",
        "outputId": "909bd725-9ed8-4815-93a6-3d3bd64985ec"
      },
      "execution_count": 11,
      "outputs": [
        {
          "output_type": "stream",
          "name": "stdout",
          "text": [
            "Array = \n",
            " ['123' '453' '65' '876' 'Numpy' 'Pandas' '2.94']\n",
            "<class 'numpy.ndarray'>\n"
          ]
        }
      ]
    },
    {
      "cell_type": "markdown",
      "source": [
        "### Sample MatPlotLib ⌛\n",
        "\n",
        "---\n",
        "\n"
      ],
      "metadata": {
        "id": "uIF210QsedkJ"
      }
    },
    {
      "cell_type": "code",
      "source": [
        "import matplotlib.pyplot as plt\n",
        "import pandas as pd\n",
        "import numpy as np\n",
        "import math\n",
        "\n",
        "xcord = pd.Series(np.arange(-10, 10, 0.01)) # get a list of numbers from -10 to 10 with 0.01 step size\n",
        "zcord = xcord.map(lambda x: math.sin(x)) # get sine value of all the numbers in above list\n",
        "plt.plot(xcord, zcord) #plot and show it\n",
        "plt.show()"
      ],
      "metadata": {
        "colab": {
          "base_uri": "https://localhost:8080/",
          "height": 265
        },
        "id": "2rm1CmhAenW5",
        "outputId": "830c541e-7a41-46cf-8c28-6bb571c15d79"
      },
      "execution_count": 23,
      "outputs": [
        {
          "output_type": "display_data",
          "data": {
            "text/plain": [
              "<Figure size 432x288 with 1 Axes>"
            ],
            "image/png": "[encoded data removed]"
          },
          "metadata": {
            "needs_background": "light"
          }
        }
      ]
    }
  ]
}