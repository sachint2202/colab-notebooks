{
  "nbformat": 4,
  "nbformat_minor": 0,
  "metadata": {
    "colab": {
      "provenance": [],
      "authorship_tag": "ABX9TyNjfi9pFET+Oi0uGkIUc1T8",
      "include_colab_link": true
    },
    "kernelspec": {
      "name": "python3",
      "display_name": "Python 3"
    },
    "language_info": {
      "name": "python"
    }
  },
  "cells": [
    {
      "cell_type": "markdown",
      "metadata": {
        "id": "view-in-github",
        "colab_type": "text"
      },
      "source": [
        "<a href=\"https://colab.research.google.com/github/sachint2202/colab-notebooks/blob/main/Starting_Off.ipynb\" target=\"_parent\"><img src=\"https://colab.research.google.com/assets/colab-badge.svg\" alt=\"Open In Colab\"/></a>"
      ]
    },
    {
      "cell_type": "markdown",
      "source": [
        "Sample Python program to draw inference"
      ],
      "metadata": {
        "id": "Z2Rpa0OLSRJp"
      }
    },
    {
      "cell_type": "code",
      "execution_count": 6,
      "metadata": {
        "colab": {
          "base_uri": "https://localhost:8080/"
        },
        "id": "_BQUh-DJQln3",
        "outputId": "2bb06f35-b93f-456d-c426-4c77ff1c2acd"
      },
      "outputs": [
        {
          "output_type": "stream",
          "name": "stdout",
          "text": [
            "10  +  20  =  30\n"
          ]
        }
      ],
      "source": [
        "a = 10\n",
        "b = 20\n",
        "c = a + b\n",
        "print(a,' + ',b,' = ',a+b)"
      ]
    },
    {
      "cell_type": "markdown",
      "source": [
        "Google CoLab comes pre-installed with some Data Science libraries so you don't need to install them. Examples include numpy and pandas."
      ],
      "metadata": {
        "id": "nyFbkANgZs1K"
      }
    },
    {
      "cell_type": "code",
      "source": [
        "import pandas as pd\n",
        "myList = ['Sachin', 23, 45.6789, 'font']\n",
        "pdSeries = pd.Series(myList); #Series is like column of a table. 1-D Array\n",
        "print('Panda series = \\n', pdSeries)"
      ],
      "metadata": {
        "colab": {
          "base_uri": "https://localhost:8080/"
        },
        "id": "xBIW7y6aYTU0",
        "outputId": "c8613020-d2fc-4635-85b2-a5b1b3882aae"
      },
      "execution_count": 7,
      "outputs": [
        {
          "output_type": "stream",
          "name": "stdout",
          "text": [
            "Panda series = \n",
            " 0     Sachin\n",
            "1         23\n",
            "2    45.6789\n",
            "3       font\n",
            "dtype: object\n"
          ]
        }
      ]
    }
  ]
}